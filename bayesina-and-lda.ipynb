{
 "cells": [
  {
   "cell_type": "markdown",
   "metadata": {},
   "source": [
    "# AP4 - Pattern Recognition\n",
    "Implementation of Naive Bayes and Linear Discriminant Analysis(LDA) for classification.\n",
    "\n",
    "> Name: Jonas Carvalho Fortes\n",
    "\n",
    "> Mat: 494513"
   ]
  },
  {
   "cell_type": "markdown",
   "metadata": {},
   "source": [
    "## Load Datasets"
   ]
  },
  {
   "cell_type": "code",
   "execution_count": 4,
   "metadata": {},
   "outputs": [
    {
     "name": "stdout",
     "output_type": "stream",
     "text": [
      "Dataset Input1 shape: (4000, 2)\n",
      "Dataset Input2 shape: (4000, 2)\n"
     ]
    }
   ],
   "source": [
    "import pandas as pd\n",
    "import numpy as np\n",
    "from scipy.io import loadmat\n",
    "\n",
    "dataset_input1 = loadmat('data/Input1.mat')\n",
    "dataset_input1 = pd.DataFrame(dataset_input1['Input1']).transpose()\n",
    "print(f'Dataset Input1 shape: {dataset_input1.shape}')\n",
    "\n",
    "dataset_input2 = loadmat('data/Input2.mat')\n",
    "dataset_input2 = pd.DataFrame(dataset_input2['Input2']).transpose()\n",
    "print(f'Dataset Input2 shape: {dataset_input2.shape}')"
   ]
  },
  {
   "cell_type": "code",
   "execution_count": 5,
   "metadata": {},
   "outputs": [],
   "source": [
    "# Create labels for the classes (1 for samples 1-2000, 2 for 2001-4000)\n",
    "labels = np.array([1]*2000 + [2]*2000)"
   ]
  },
  {
   "cell_type": "code",
   "execution_count": 6,
   "metadata": {},
   "outputs": [
    {
     "name": "stdout",
     "output_type": "stream",
     "text": [
      "Dataset Input1:\n"
     ]
    },
    {
     "data": {
      "text/html": [
       "<div>\n",
       "<style scoped>\n",
       "    .dataframe tbody tr th:only-of-type {\n",
       "        vertical-align: middle;\n",
       "    }\n",
       "\n",
       "    .dataframe tbody tr th {\n",
       "        vertical-align: top;\n",
       "    }\n",
       "\n",
       "    .dataframe thead th {\n",
       "        text-align: right;\n",
       "    }\n",
       "</style>\n",
       "<table border=\"1\" class=\"dataframe\">\n",
       "  <thead>\n",
       "    <tr style=\"text-align: right;\">\n",
       "      <th></th>\n",
       "      <th>0</th>\n",
       "      <th>1</th>\n",
       "    </tr>\n",
       "  </thead>\n",
       "  <tbody>\n",
       "    <tr>\n",
       "      <th>0</th>\n",
       "      <td>0.545786</td>\n",
       "      <td>1.187656</td>\n",
       "    </tr>\n",
       "    <tr>\n",
       "      <th>1</th>\n",
       "      <td>0.369962</td>\n",
       "      <td>1.190989</td>\n",
       "    </tr>\n",
       "    <tr>\n",
       "      <th>2</th>\n",
       "      <td>1.713438</td>\n",
       "      <td>-0.191912</td>\n",
       "    </tr>\n",
       "    <tr>\n",
       "      <th>3</th>\n",
       "      <td>1.455538</td>\n",
       "      <td>0.378509</td>\n",
       "    </tr>\n",
       "    <tr>\n",
       "      <th>4</th>\n",
       "      <td>1.218019</td>\n",
       "      <td>0.646772</td>\n",
       "    </tr>\n",
       "    <tr>\n",
       "      <th>...</th>\n",
       "      <td>...</td>\n",
       "      <td>...</td>\n",
       "    </tr>\n",
       "    <tr>\n",
       "      <th>3995</th>\n",
       "      <td>0.458675</td>\n",
       "      <td>-1.473266</td>\n",
       "    </tr>\n",
       "    <tr>\n",
       "      <th>3996</th>\n",
       "      <td>-0.177021</td>\n",
       "      <td>-1.730604</td>\n",
       "    </tr>\n",
       "    <tr>\n",
       "      <th>3997</th>\n",
       "      <td>0.309656</td>\n",
       "      <td>-1.767054</td>\n",
       "    </tr>\n",
       "    <tr>\n",
       "      <th>3998</th>\n",
       "      <td>0.913877</td>\n",
       "      <td>-1.752652</td>\n",
       "    </tr>\n",
       "    <tr>\n",
       "      <th>3999</th>\n",
       "      <td>0.620668</td>\n",
       "      <td>-1.189489</td>\n",
       "    </tr>\n",
       "  </tbody>\n",
       "</table>\n",
       "<p>4000 rows × 2 columns</p>\n",
       "</div>"
      ],
      "text/plain": [
       "             0         1\n",
       "0     0.545786  1.187656\n",
       "1     0.369962  1.190989\n",
       "2     1.713438 -0.191912\n",
       "3     1.455538  0.378509\n",
       "4     1.218019  0.646772\n",
       "...        ...       ...\n",
       "3995  0.458675 -1.473266\n",
       "3996 -0.177021 -1.730604\n",
       "3997  0.309656 -1.767054\n",
       "3998  0.913877 -1.752652\n",
       "3999  0.620668 -1.189489\n",
       "\n",
       "[4000 rows x 2 columns]"
      ]
     },
     "execution_count": 6,
     "metadata": {},
     "output_type": "execute_result"
    }
   ],
   "source": [
    "print('Dataset Input1:')\n",
    "dataset_input1"
   ]
  },
  {
   "cell_type": "code",
   "execution_count": 7,
   "metadata": {},
   "outputs": [
    {
     "name": "stdout",
     "output_type": "stream",
     "text": [
      "Dataset Input2:\n"
     ]
    },
    {
     "data": {
      "text/html": [
       "<div>\n",
       "<style scoped>\n",
       "    .dataframe tbody tr th:only-of-type {\n",
       "        vertical-align: middle;\n",
       "    }\n",
       "\n",
       "    .dataframe tbody tr th {\n",
       "        vertical-align: top;\n",
       "    }\n",
       "\n",
       "    .dataframe thead th {\n",
       "        text-align: right;\n",
       "    }\n",
       "</style>\n",
       "<table border=\"1\" class=\"dataframe\">\n",
       "  <thead>\n",
       "    <tr style=\"text-align: right;\">\n",
       "      <th></th>\n",
       "      <th>0</th>\n",
       "      <th>1</th>\n",
       "    </tr>\n",
       "  </thead>\n",
       "  <tbody>\n",
       "    <tr>\n",
       "      <th>0</th>\n",
       "      <td>0.686500</td>\n",
       "      <td>0.494410</td>\n",
       "    </tr>\n",
       "    <tr>\n",
       "      <th>1</th>\n",
       "      <td>0.760307</td>\n",
       "      <td>0.609878</td>\n",
       "    </tr>\n",
       "    <tr>\n",
       "      <th>2</th>\n",
       "      <td>0.053486</td>\n",
       "      <td>0.811601</td>\n",
       "    </tr>\n",
       "    <tr>\n",
       "      <th>3</th>\n",
       "      <td>1.173823</td>\n",
       "      <td>0.359015</td>\n",
       "    </tr>\n",
       "    <tr>\n",
       "      <th>4</th>\n",
       "      <td>0.328171</td>\n",
       "      <td>0.907802</td>\n",
       "    </tr>\n",
       "    <tr>\n",
       "      <th>...</th>\n",
       "      <td>...</td>\n",
       "      <td>...</td>\n",
       "    </tr>\n",
       "    <tr>\n",
       "      <th>3995</th>\n",
       "      <td>0.392458</td>\n",
       "      <td>0.208384</td>\n",
       "    </tr>\n",
       "    <tr>\n",
       "      <th>3996</th>\n",
       "      <td>-0.127486</td>\n",
       "      <td>-0.190746</td>\n",
       "    </tr>\n",
       "    <tr>\n",
       "      <th>3997</th>\n",
       "      <td>0.057968</td>\n",
       "      <td>-0.320305</td>\n",
       "    </tr>\n",
       "    <tr>\n",
       "      <th>3998</th>\n",
       "      <td>1.639673</td>\n",
       "      <td>0.866730</td>\n",
       "    </tr>\n",
       "    <tr>\n",
       "      <th>3999</th>\n",
       "      <td>0.723930</td>\n",
       "      <td>0.205724</td>\n",
       "    </tr>\n",
       "  </tbody>\n",
       "</table>\n",
       "<p>4000 rows × 2 columns</p>\n",
       "</div>"
      ],
      "text/plain": [
       "             0         1\n",
       "0     0.686500  0.494410\n",
       "1     0.760307  0.609878\n",
       "2     0.053486  0.811601\n",
       "3     1.173823  0.359015\n",
       "4     0.328171  0.907802\n",
       "...        ...       ...\n",
       "3995  0.392458  0.208384\n",
       "3996 -0.127486 -0.190746\n",
       "3997  0.057968 -0.320305\n",
       "3998  1.639673  0.866730\n",
       "3999  0.723930  0.205724\n",
       "\n",
       "[4000 rows x 2 columns]"
      ]
     },
     "execution_count": 7,
     "metadata": {},
     "output_type": "execute_result"
    }
   ],
   "source": [
    "print('Dataset Input2:')\n",
    "dataset_input2"
   ]
  },
  {
   "cell_type": "markdown",
   "metadata": {},
   "source": [
    "## Helper functions and classes"
   ]
  },
  {
   "cell_type": "markdown",
   "metadata": {},
   "source": [
    "### Naive Bayes Classifier Modeling"
   ]
  },
  {
   "cell_type": "code",
   "execution_count": 8,
   "metadata": {},
   "outputs": [],
   "source": [
    "class NaiveBayesClassifier:\n",
    "    \n",
    "    def __init__(self):\n",
    "        self.mean_class1 = None\n",
    "        self.var_class1 = None\n",
    "        self.mean_class2 = None\n",
    "        self.var_class2 = None\n",
    "    \n",
    "    def fit(self, X, y):\n",
    "        # Separate the samples for each class\n",
    "        X_class1 = X[y == 1]\n",
    "        X_class2 = X[y == 2]\n",
    "        \n",
    "        # Calculate the mean and variance for each class\n",
    "        self.mean_class1 = X_class1.mean(axis=0)\n",
    "        self.var_class1 = X_class1.var(axis=0)\n",
    "        \n",
    "        self.mean_class2 = X_class2.mean(axis=0)\n",
    "        self.var_class2 = X_class2.var(axis=0)\n",
    "    \n",
    "    def gaussian_probability(self, x, mean, var):\n",
    "        exponent = np.exp(- ((x - mean) ** 2) / (2 * var))\n",
    "        return (1 / np.sqrt(2 * np.pi * var)) * exponent\n",
    "    \n",
    "    def predict(self, X):\n",
    "        predictions = []\n",
    "        \n",
    "        for i in range(X.shape[0]):\n",
    "            sample = X.iloc[i, :]\n",
    "            # Calculate the probability for Class 1\n",
    "            prob_class1 = np.prod(self.gaussian_probability(sample, self.mean_class1, self.var_class1))\n",
    "            # Calculate the probability for Class 2\n",
    "            prob_class2 = np.prod(self.gaussian_probability(sample, self.mean_class2, self.var_class2))\n",
    "            \n",
    "            # Compare the probabilities and assign the class with the highest probability\n",
    "            if prob_class1 > prob_class2:\n",
    "                predictions.append(1)\n",
    "            else:\n",
    "                predictions.append(2)\n",
    "        \n",
    "        return np.array(predictions)"
   ]
  },
  {
   "cell_type": "markdown",
   "metadata": {},
   "source": [
    "### LDA Classifier Modeling"
   ]
  },
  {
   "cell_type": "code",
   "execution_count": 18,
   "metadata": {},
   "outputs": [],
   "source": [
    "class LDAClassifier:\n",
    "    \n",
    "    def __init__(self):\n",
    "        self.w = None  # projection vector (LDA direction)\n",
    "        self.threshold = None  # decision threshold\n",
    "    \n",
    "    def fit(self, X, y):\n",
    "        # Separate the samples for each class\n",
    "        X_class1 = X[y == 1]\n",
    "        X_class2 = X[y == 2]\n",
    "        \n",
    "        # Calculate the mean for each class\n",
    "        mean_class1 = np.mean(X_class1, axis=0)\n",
    "        mean_class2 = np.mean(X_class2, axis=0)\n",
    "        \n",
    "        # Calculate the covariance matrices for each class\n",
    "        S1 = np.cov(X_class1, rowvar=False)\n",
    "        S2 = np.cov(X_class2, rowvar=False)\n",
    "        \n",
    "        # Calculate the within-class scatter matrix\n",
    "        Sw = S1 + S2\n",
    "        \n",
    "        # Calculate the projection vector w = Sw^(-1) * (mean_class1 - mean_class2)\n",
    "        self.w = np.linalg.inv(Sw).dot(mean_class1 - mean_class2)\n",
    "        \n",
    "        # Project the class means onto the projection vector\n",
    "        mean1_proj = np.dot(mean_class1, self.w)\n",
    "        mean2_proj = np.dot(mean_class2, self.w)\n",
    "        \n",
    "        # Calculate the decision threshold\n",
    "        self.threshold = (mean1_proj + mean2_proj) / 2\n",
    "    \n",
    "    def predict(self, X):\n",
    "        # Project the samples onto the projection vector\n",
    "        X_proj = np.dot(X, self.w)\n",
    "        \n",
    "        # Classify the samples based on the projection values and the decision threshold\n",
    "        predictions = np.where(X_proj > self.threshold, 1, 2)\n",
    "        return predictions"
   ]
  },
  {
   "cell_type": "markdown",
   "metadata": {},
   "source": [
    "### Auxiliary Functions"
   ]
  },
  {
   "cell_type": "code",
   "execution_count": 10,
   "metadata": {},
   "outputs": [],
   "source": [
    "import matplotlib.pyplot as plt\n",
    "from sklearn.metrics import accuracy_score\n",
    "\n",
    "def plot_2d_scatter(X, y):\n",
    "    \"\"\"\n",
    "    Plot a 2D scatter plot of the input data.\n",
    "    \n",
    "    Parameters:\n",
    "    - X: DataFrame or Array-like with the input data (continuous features).\n",
    "    - y: Array-like with the target labels.\n",
    "    \"\"\"\n",
    "    plt.figure(figsize=(10, 6))\n",
    "    \n",
    "    # Plotar Classe 1\n",
    "    plt.scatter(X[y == 1].iloc[:, 0], X[y == 1].iloc[:, 1], color='blue', label='Classe 1', alpha=0.6)\n",
    "    \n",
    "    # Plotar Classe 2\n",
    "    plt.scatter(X[y == 2].iloc[:, 0], X[y == 2].iloc[:, 1], color='red', label='Classe 2', alpha=0.6)\n",
    "    \n",
    "    # Configurações do gráfico\n",
    "    plt.title('Gráfico de Dispersão 2D dos Dados de Entrada')\n",
    "    plt.xlabel('Atributo 1')\n",
    "    plt.ylabel('Atributo 2')\n",
    "    plt.legend()\n",
    "    plt.show()"
   ]
  },
  {
   "cell_type": "markdown",
   "metadata": {},
   "source": [
    "## Test\n"
   ]
  },
  {
   "cell_type": "code",
   "execution_count": 14,
   "metadata": {},
   "outputs": [
    {
     "name": "stdout",
     "output_type": "stream",
     "text": [
      "[1 1 1 1 1 1 1 1 1 1]\n"
     ]
    },
    {
     "data": {
      "text/plain": [
       "1.0"
      ]
     },
     "execution_count": 14,
     "metadata": {},
     "output_type": "execute_result"
    }
   ],
   "source": [
    "# Inicializar o classificador\n",
    "nb_classifier = NaiveBayesClassifier()\n",
    "\n",
    "# Treinar o modelo\n",
    "nb_classifier.fit(dataset_input1, labels)\n",
    "\n",
    "# Fazer previsões\n",
    "predictions = nb_classifier.predict(dataset_input1)\n",
    "\n",
    "# Exibir as primeiras previsões\n",
    "print(predictions[:10])\n",
    "\n",
    "accuracy_score(labels, predictions)"
   ]
  },
  {
   "cell_type": "code",
   "execution_count": 19,
   "metadata": {},
   "outputs": [
    {
     "data": {
      "text/plain": [
       "1.0"
      ]
     },
     "execution_count": 19,
     "metadata": {},
     "output_type": "execute_result"
    }
   ],
   "source": [
    "# Inicializar e treinar o classificador LDA\n",
    "lda_classifier = LDAClassifier()\n",
    "\n",
    "\n",
    "lda_classifier.fit(dataset_input1, labels)\n",
    "\n",
    "# Fazer previsões\n",
    "lda_predictions = lda_classifier.predict(dataset_input1)\n",
    "\n",
    "# Calcular a acurácia\n",
    "accuracy_score(labels, lda_predictions)\n",
    "\n"
   ]
  }
 ],
 "metadata": {
  "kernelspec": {
   "display_name": "bayesldavenv",
   "language": "python",
   "name": "python3"
  },
  "language_info": {
   "codemirror_mode": {
    "name": "ipython",
    "version": 3
   },
   "file_extension": ".py",
   "mimetype": "text/x-python",
   "name": "python",
   "nbconvert_exporter": "python",
   "pygments_lexer": "ipython3",
   "version": "3.12.4"
  }
 },
 "nbformat": 4,
 "nbformat_minor": 2
}
